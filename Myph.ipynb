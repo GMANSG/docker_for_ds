{
 "cells": [
  {
   "cell_type": "code",
   "execution_count": 1,
   "id": "e186c79e-e7bd-4f0b-98cc-c1476cc531b0",
   "metadata": {},
   "outputs": [],
   "source": [
    "import xgboost"
   ]
  },
  {
   "cell_type": "code",
   "execution_count": 2,
   "id": "3636cf2c-3392-4db6-a383-5ff34b5fefdc",
   "metadata": {},
   "outputs": [],
   "source": [
    "import pandas as pd"
   ]
  },
  {
   "cell_type": "code",
   "execution_count": 3,
   "id": "1e8f3d42-5025-43bb-936f-9147b8a31658",
   "metadata": {},
   "outputs": [],
   "source": [
    "df = pd.read_csv(\"training_set_features.csv\")"
   ]
  },
  {
   "cell_type": "code",
   "execution_count": 4,
   "id": "00d1478c-368e-4a35-ab7e-c24137d94d1f",
   "metadata": {},
   "outputs": [
    {
     "name": "stdout",
     "output_type": "stream",
     "text": [
      "Requirement already satisfied: psycopg2-binary in /opt/conda/lib/python3.10/site-packages (2.9.5)\n"
     ]
    }
   ],
   "source": [
    "# для подключения у postgres\n",
    "!pip install psycopg2-binary"
   ]
  },
  {
   "cell_type": "code",
   "execution_count": 6,
   "id": "5367cbc7-debb-4440-b495-1706f42df9d4",
   "metadata": {},
   "outputs": [],
   "source": [
    "import psycopg2"
   ]
  },
  {
   "cell_type": "code",
   "execution_count": 5,
   "id": "d5a71e91-0ad8-4e33-ba03-d911d4b495b0",
   "metadata": {},
   "outputs": [],
   "source": [
    "conn = psycopg2.connect(database=\"postgres\",\n",
    "                        host=\"db\",\n",
    "                        user=\"postgres\")"
   ]
  },
  {
   "cell_type": "code",
   "execution_count": 8,
   "id": "181d39c3-ba4c-4618-9183-cf47f20efdd8",
   "metadata": {},
   "outputs": [],
   "source": [
    "from sqlalchemy import create_engine"
   ]
  },
  {
   "cell_type": "code",
   "execution_count": 9,
   "id": "7c0f1302-c410-4395-9e29-61fc52b64c67",
   "metadata": {},
   "outputs": [],
   "source": [
    "engine = create_engine('postgresql://postgres@db:5432/postgres')"
   ]
  },
  {
   "cell_type": "code",
   "execution_count": 27,
   "id": "8b7a170b-b334-499e-b4ac-764b12921455",
   "metadata": {},
   "outputs": [],
   "source": [
    "cursor.execute('drop table pg_table')"
   ]
  },
  {
   "cell_type": "code",
   "execution_count": 28,
   "id": "44353515-00da-4ca7-8a8a-4e2639e7de66",
   "metadata": {},
   "outputs": [],
   "source": [
    "cursor.execute('commit')"
   ]
  },
  {
   "cell_type": "code",
   "execution_count": 29,
   "id": "81d3927e-2334-4d7e-b586-f089c5c561dc",
   "metadata": {},
   "outputs": [
    {
     "data": {
      "text/plain": [
       "707"
      ]
     },
     "execution_count": 29,
     "metadata": {},
     "output_type": "execute_result"
    }
   ],
   "source": [
    "df.to_sql('pg_table', engine)"
   ]
  },
  {
   "cell_type": "code",
   "execution_count": null,
   "id": "5abb37ea-3675-48c5-83c1-fa8df5e51ff9",
   "metadata": {},
   "outputs": [],
   "source": [
    "cursor = conn.cursor()"
   ]
  },
  {
   "cell_type": "code",
   "execution_count": 10,
   "id": "fa09c331-2f39-49c9-9c53-e065a2cfe087",
   "metadata": {},
   "outputs": [],
   "source": [
    "df_pg = pd.read_sql_query('select * from pg_table',  con=engine)"
   ]
  },
  {
   "cell_type": "code",
   "execution_count": 11,
   "id": "add9c09c-e4b8-42cf-9a0b-5a1c3a1630e5",
   "metadata": {},
   "outputs": [
    {
     "name": "stdout",
     "output_type": "stream",
     "text": [
      "<class 'pandas.core.frame.DataFrame'>\n",
      "RangeIndex: 26707 entries, 0 to 26706\n",
      "Data columns (total 37 columns):\n",
      " #   Column                       Non-Null Count  Dtype  \n",
      "---  ------                       --------------  -----  \n",
      " 0   index                        26707 non-null  int64  \n",
      " 1   respondent_id                26707 non-null  int64  \n",
      " 2   h1n1_concern                 26615 non-null  float64\n",
      " 3   h1n1_knowledge               26591 non-null  float64\n",
      " 4   behavioral_antiviral_meds    26636 non-null  float64\n",
      " 5   behavioral_avoidance         26499 non-null  float64\n",
      " 6   behavioral_face_mask         26688 non-null  float64\n",
      " 7   behavioral_wash_hands        26665 non-null  float64\n",
      " 8   behavioral_large_gatherings  26620 non-null  float64\n",
      " 9   behavioral_outside_home      26625 non-null  float64\n",
      " 10  behavioral_touch_face        26579 non-null  float64\n",
      " 11  doctor_recc_h1n1             24547 non-null  float64\n",
      " 12  doctor_recc_seasonal         24547 non-null  float64\n",
      " 13  chronic_med_condition        25736 non-null  float64\n",
      " 14  child_under_6_months         25887 non-null  float64\n",
      " 15  health_worker                25903 non-null  float64\n",
      " 16  health_insurance             14433 non-null  float64\n",
      " 17  opinion_h1n1_vacc_effective  26316 non-null  float64\n",
      " 18  opinion_h1n1_risk            26319 non-null  float64\n",
      " 19  opinion_h1n1_sick_from_vacc  26312 non-null  float64\n",
      " 20  opinion_seas_vacc_effective  26245 non-null  float64\n",
      " 21  opinion_seas_risk            26193 non-null  float64\n",
      " 22  opinion_seas_sick_from_vacc  26170 non-null  float64\n",
      " 23  age_group                    26707 non-null  object \n",
      " 24  education                    25300 non-null  object \n",
      " 25  race                         26707 non-null  object \n",
      " 26  sex                          26707 non-null  object \n",
      " 27  income_poverty               22284 non-null  object \n",
      " 28  marital_status               25299 non-null  object \n",
      " 29  rent_or_own                  24665 non-null  object \n",
      " 30  employment_status            25244 non-null  object \n",
      " 31  hhs_geo_region               26707 non-null  object \n",
      " 32  census_msa                   26707 non-null  object \n",
      " 33  household_adults             26458 non-null  float64\n",
      " 34  household_children           26458 non-null  float64\n",
      " 35  employment_industry          13377 non-null  object \n",
      " 36  employment_occupation        13237 non-null  object \n",
      "dtypes: float64(23), int64(2), object(12)\n",
      "memory usage: 7.5+ MB\n"
     ]
    }
   ],
   "source": [
    "df_pg.info()"
   ]
  },
  {
   "cell_type": "code",
   "execution_count": null,
   "id": "fd7249b9-199e-466c-afc5-4b64efef9c2d",
   "metadata": {},
   "outputs": [],
   "source": []
  },
  {
   "cell_type": "code",
   "execution_count": null,
   "id": "fd07cc90-fddd-463d-a272-1b1f211e422c",
   "metadata": {},
   "outputs": [],
   "source": []
  },
  {
   "cell_type": "code",
   "execution_count": 16,
   "id": "a7a71760-87bd-4d4d-81f0-defcb21a4906",
   "metadata": {},
   "outputs": [
    {
     "name": "stdout",
     "output_type": "stream",
     "text": [
      "Package                       Version\n",
      "----------------------------- -----------\n",
      "alembic                       1.8.1\n",
      "altair                        4.2.0\n",
      "anyio                         3.6.2\n",
      "argon2-cffi                   21.3.0\n",
      "argon2-cffi-bindings          21.2.0\n",
      "asttokens                     2.1.0\n",
      "async-generator               1.10\n",
      "attrs                         22.1.0\n",
      "Babel                         2.11.0\n",
      "backcall                      0.2.0\n",
      "backports.functools-lru-cache 1.6.4\n",
      "beautifulsoup4                4.11.1\n",
      "bleach                        5.0.1\n",
      "blinker                       1.5\n",
      "bokeh                         3.0.1\n",
      "Bottleneck                    1.3.5\n",
      "brotlipy                      0.7.0\n",
      "cached-property               1.5.2\n",
      "certifi                       2022.9.24\n",
      "certipy                       0.1.3\n",
      "cffi                          1.15.1\n",
      "charset-normalizer            2.1.1\n",
      "click                         8.1.3\n",
      "cloudpickle                   2.2.0\n",
      "colorama                      0.4.6\n",
      "conda                         22.9.0\n",
      "conda-package-handling        1.9.0\n",
      "contourpy                     1.0.6\n",
      "cryptography                  38.0.3\n",
      "cycler                        0.11.0\n",
      "Cython                        0.29.32\n",
      "cytoolz                       0.12.0\n",
      "dask                          2022.10.0\n",
      "debugpy                       1.6.3\n",
      "decorator                     5.1.1\n",
      "defusedxml                    0.7.1\n",
      "dill                          0.3.6\n",
      "distributed                   2022.10.0\n",
      "entrypoints                   0.4\n",
      "et-xmlfile                    1.0.1\n",
      "executing                     1.2.0\n",
      "fastjsonschema                2.16.2\n",
      "flit_core                     3.8.0\n",
      "fonttools                     4.38.0\n",
      "fsspec                        2022.11.0\n",
      "gmpy2                         2.1.2\n",
      "greenlet                      2.0.1\n",
      "h5py                          3.7.0\n",
      "HeapDict                      1.0.1\n",
      "idna                          3.4\n",
      "imagecodecs                   2022.9.26\n",
      "imageio                       2.22.0\n",
      "importlib-metadata            5.0.0\n",
      "importlib-resources           5.10.0\n",
      "ipykernel                     6.17.1\n",
      "ipympl                        0.9.2\n",
      "ipython                       8.6.0\n",
      "ipython-genutils              0.2.0\n",
      "ipywidgets                    8.0.2\n",
      "jedi                          0.18.1\n",
      "Jinja2                        3.1.2\n",
      "joblib                        1.2.0\n",
      "json5                         0.9.5\n",
      "jsonschema                    4.17.0\n",
      "jupyter-client                7.3.4\n",
      "jupyter_core                  5.0.0\n",
      "jupyter-server                1.23.1\n",
      "jupyter-telemetry             0.1.0\n",
      "jupyterhub                    3.0.0\n",
      "jupyterlab                    3.5.0\n",
      "jupyterlab-pygments           0.2.2\n",
      "jupyterlab_server             2.16.3\n",
      "jupyterlab-widgets            3.0.3\n",
      "kiwisolver                    1.4.4\n",
      "libmambapy                    1.0.0\n",
      "llvmlite                      0.39.1\n",
      "locket                        1.0.0\n",
      "lz4                           4.0.2\n",
      "Mako                          1.2.3\n",
      "mamba                         1.0.0\n",
      "MarkupSafe                    2.1.1\n",
      "matplotlib                    3.6.2\n",
      "matplotlib-inline             0.1.6\n",
      "mistune                       2.0.4\n",
      "mpmath                        1.2.1\n",
      "msgpack                       1.0.4\n",
      "munkres                       1.1.4\n",
      "nbclassic                     0.4.8\n",
      "nbclient                      0.7.0\n",
      "nbconvert                     7.2.4\n",
      "nbformat                      5.7.0\n",
      "nest-asyncio                  1.5.6\n",
      "networkx                      2.8.8\n",
      "notebook                      6.5.2\n",
      "notebook_shim                 0.2.2\n",
      "numba                         0.56.3\n",
      "numexpr                       2.8.3\n",
      "numpy                         1.23.4\n",
      "oauthlib                      3.2.2\n",
      "openpyxl                      3.0.10\n",
      "packaging                     21.3\n",
      "pamela                        1.0.0\n",
      "pandas                        1.5.1\n",
      "pandocfilters                 1.5.0\n",
      "parso                         0.8.3\n",
      "partd                         1.3.0\n",
      "patsy                         0.5.3\n",
      "pexpect                       4.8.0\n",
      "pickleshare                   0.7.5\n",
      "Pillow                        9.2.0\n",
      "pip                           22.3.1\n",
      "pkgutil_resolve_name          1.3.10\n",
      "platformdirs                  2.5.2\n",
      "prometheus-client             0.15.0\n",
      "prompt-toolkit                3.0.32\n",
      "protobuf                      4.21.9\n",
      "psutil                        5.9.4\n",
      "psycopg2-binary               2.9.5\n",
      "ptyprocess                    0.7.0\n",
      "pure-eval                     0.2.2\n",
      "pycosat                       0.6.4\n",
      "pycparser                     2.21\n",
      "pycurl                        7.45.1\n",
      "Pygments                      2.13.0\n",
      "PyJWT                         2.6.0\n",
      "pyOpenSSL                     22.1.0\n",
      "pyparsing                     3.0.9\n",
      "pyrsistent                    0.19.2\n",
      "PySocks                       1.7.1\n",
      "python-dateutil               2.8.2\n",
      "python-json-logger            2.0.1\n",
      "pytz                          2022.6\n",
      "PyWavelets                    1.3.0\n",
      "PyYAML                        6.0\n",
      "pyzmq                         24.0.1\n",
      "requests                      2.28.1\n",
      "ruamel.yaml                   0.17.21\n",
      "ruamel.yaml.clib              0.2.7\n",
      "ruamel-yaml-conda             0.15.80\n",
      "scikit-image                  0.19.3\n",
      "scikit-learn                  1.1.3\n",
      "scipy                         1.9.3\n",
      "seaborn                       0.12.1\n",
      "Send2Trash                    1.8.0\n",
      "setuptools                    65.5.1\n",
      "six                           1.16.0\n",
      "sniffio                       1.3.0\n",
      "sortedcontainers              2.4.0\n",
      "soupsieve                     2.3.2.post1\n",
      "SQLAlchemy                    1.4.44\n",
      "stack-data                    0.6.1\n",
      "statsmodels                   0.13.5\n",
      "sympy                         1.11.1\n",
      "tables                        3.7.0\n",
      "tblib                         1.7.0\n",
      "terminado                     0.17.0\n",
      "threadpoolctl                 3.1.0\n",
      "tifffile                      2022.10.10\n",
      "tinycss2                      1.2.1\n",
      "tomli                         2.0.1\n",
      "toolz                         0.12.0\n",
      "tornado                       6.1\n",
      "tqdm                          4.64.1\n",
      "traitlets                     5.5.0\n",
      "typing_extensions             4.4.0\n",
      "unicodedata2                  15.0.0\n",
      "urllib3                       1.26.11\n",
      "wcwidth                       0.2.5\n",
      "webencodings                  0.5.1\n",
      "websocket-client              1.4.2\n",
      "wheel                         0.38.4\n",
      "widgetsnbextension            4.0.3\n",
      "xgboost                       1.7.1\n",
      "xlrd                          2.0.1\n",
      "xyzservices                   2022.9.0\n",
      "zict                          2.2.0\n",
      "zipp                          3.10.0\n",
      "Note: you may need to restart the kernel to use updated packages.\n"
     ]
    }
   ],
   "source": [
    "pip list"
   ]
  },
  {
   "cell_type": "code",
   "execution_count": null,
   "id": "f4a121bf-eed3-4be5-8434-112683c5e2cb",
   "metadata": {},
   "outputs": [],
   "source": []
  }
 ],
 "metadata": {
  "kernelspec": {
   "display_name": "Python 3 (ipykernel)",
   "language": "python",
   "name": "python3"
  },
  "language_info": {
   "codemirror_mode": {
    "name": "ipython",
    "version": 3
   },
   "file_extension": ".py",
   "mimetype": "text/x-python",
   "name": "python",
   "nbconvert_exporter": "python",
   "pygments_lexer": "ipython3",
   "version": "3.10.6"
  }
 },
 "nbformat": 4,
 "nbformat_minor": 5
}
